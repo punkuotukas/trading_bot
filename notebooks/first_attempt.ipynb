{
 "cells": [
  {
   "cell_type": "code",
   "execution_count": 75,
   "id": "1a10750b-31ce-4d8a-935f-e7ff4f5f8f6f",
   "metadata": {},
   "outputs": [],
   "source": [
    "import pandas as pd\n",
    "import numpy as np\n",
    "import psycopg2\n",
    "import requests\n",
    "import websocket\n",
    "import mplfinance as mpf"
   ]
  },
  {
   "cell_type": "code",
   "execution_count": 137,
   "id": "4afcf1e4-5cbd-492e-972a-ea0e2db1ea0c",
   "metadata": {},
   "outputs": [],
   "source": [
    "def fetch_intraday_data(ticker, interval='1min'):\n",
    "    url = f'https://www.alphavantage.co/query?function=TIME_SERIES_INTRADAY&symbol={ticker}&interval={interval}&outputsize=full&apikey=RV6W5BZQAXDT3ZVO'\n",
    "    response = requests.get(url)\n",
    "    data = response.json()\n",
    "    # print(data)\n",
    "\n",
    "    time_series = data.get(f'Time Series ({interval})', {})\n",
    "    if not time_series:\n",
    "        print(f\"No data returned for {ticker}\")\n",
    "        return None\n",
    "    df = pd.DataFrame(time_series).T\n",
    "    df.index.rename('timestamp', inplace=True)\n",
    "    pd.to_datetime(df.index)\n",
    "    df = df.sort_index()\n",
    "    df.columns = ['open', 'high', 'low', 'close', 'volume']\n",
    "    df['ticker'] = ticker\n",
    "    return df"
   ]
  },
  {
   "cell_type": "code",
   "execution_count": 138,
   "id": "afe11604-5d5e-436a-8653-18eb5df3caf6",
   "metadata": {},
   "outputs": [
    {
     "name": "stdout",
     "output_type": "stream",
     "text": [
      "No data returned for MSFT\n"
     ]
    }
   ],
   "source": [
    "df = fetch_intraday_data('MSFT')"
   ]
  },
  {
   "cell_type": "code",
   "execution_count": 123,
   "id": "ca75c5fd-7495-4d4f-bcba-3dd6bcfd5ba9",
   "metadata": {},
   "outputs": [
    {
     "data": {
      "text/html": [
       "<div>\n",
       "<style scoped>\n",
       "    .dataframe tbody tr th:only-of-type {\n",
       "        vertical-align: middle;\n",
       "    }\n",
       "\n",
       "    .dataframe tbody tr th {\n",
       "        vertical-align: top;\n",
       "    }\n",
       "\n",
       "    .dataframe thead th {\n",
       "        text-align: right;\n",
       "    }\n",
       "</style>\n",
       "<table border=\"1\" class=\"dataframe\">\n",
       "  <thead>\n",
       "    <tr style=\"text-align: right;\">\n",
       "      <th></th>\n",
       "      <th>1. open</th>\n",
       "      <th>2. high</th>\n",
       "      <th>3. low</th>\n",
       "      <th>4. close</th>\n",
       "      <th>5. volume</th>\n",
       "      <th>ticker</th>\n",
       "    </tr>\n",
       "    <tr>\n",
       "      <th>timestamp</th>\n",
       "      <th></th>\n",
       "      <th></th>\n",
       "      <th></th>\n",
       "      <th></th>\n",
       "      <th></th>\n",
       "      <th></th>\n",
       "    </tr>\n",
       "  </thead>\n",
       "  <tbody>\n",
       "    <tr>\n",
       "      <th>2024-08-01 04:00:00</th>\n",
       "      <td>16.5000</td>\n",
       "      <td>16.5000</td>\n",
       "      <td>16.4600</td>\n",
       "      <td>16.4700</td>\n",
       "      <td>329</td>\n",
       "      <td>RIVN</td>\n",
       "    </tr>\n",
       "    <tr>\n",
       "      <th>2024-08-01 04:01:00</th>\n",
       "      <td>16.5000</td>\n",
       "      <td>16.5100</td>\n",
       "      <td>16.5000</td>\n",
       "      <td>16.5100</td>\n",
       "      <td>104</td>\n",
       "      <td>RIVN</td>\n",
       "    </tr>\n",
       "    <tr>\n",
       "      <th>2024-08-01 04:02:00</th>\n",
       "      <td>16.5600</td>\n",
       "      <td>16.5600</td>\n",
       "      <td>16.5600</td>\n",
       "      <td>16.5600</td>\n",
       "      <td>4</td>\n",
       "      <td>RIVN</td>\n",
       "    </tr>\n",
       "    <tr>\n",
       "      <th>2024-08-01 04:03:00</th>\n",
       "      <td>16.5000</td>\n",
       "      <td>16.5000</td>\n",
       "      <td>16.4700</td>\n",
       "      <td>16.4700</td>\n",
       "      <td>1687</td>\n",
       "      <td>RIVN</td>\n",
       "    </tr>\n",
       "    <tr>\n",
       "      <th>2024-08-01 04:04:00</th>\n",
       "      <td>16.4700</td>\n",
       "      <td>16.4700</td>\n",
       "      <td>16.4700</td>\n",
       "      <td>16.4700</td>\n",
       "      <td>200</td>\n",
       "      <td>RIVN</td>\n",
       "    </tr>\n",
       "  </tbody>\n",
       "</table>\n",
       "</div>"
      ],
      "text/plain": [
       "                     1. open  2. high   3. low 4. close 5. volume ticker\n",
       "timestamp                                                               \n",
       "2024-08-01 04:00:00  16.5000  16.5000  16.4600  16.4700       329   RIVN\n",
       "2024-08-01 04:01:00  16.5000  16.5100  16.5000  16.5100       104   RIVN\n",
       "2024-08-01 04:02:00  16.5600  16.5600  16.5600  16.5600         4   RIVN\n",
       "2024-08-01 04:03:00  16.5000  16.5000  16.4700  16.4700      1687   RIVN\n",
       "2024-08-01 04:04:00  16.4700  16.4700  16.4700  16.4700       200   RIVN"
      ]
     },
     "execution_count": 123,
     "metadata": {},
     "output_type": "execute_result"
    }
   ],
   "source": [
    "df.head()"
   ]
  },
  {
   "cell_type": "code",
   "execution_count": 124,
   "id": "71f294e1-c3f5-4e9f-b9d6-47342723bb26",
   "metadata": {},
   "outputs": [
    {
     "data": {
      "text/plain": [
       "1. open      object\n",
       "2. high      object\n",
       "3. low       object\n",
       "4. close     object\n",
       "5. volume    object\n",
       "ticker       object\n",
       "dtype: object"
      ]
     },
     "execution_count": 124,
     "metadata": {},
     "output_type": "execute_result"
    }
   ],
   "source": [
    "df.dtypes"
   ]
  },
  {
   "cell_type": "code",
   "execution_count": 83,
   "id": "b692541f-3db6-47b5-9ccf-8b5a964b0ab8",
   "metadata": {},
   "outputs": [
    {
     "ename": "TypeError",
     "evalue": "Expect data.index as DatetimeIndex",
     "output_type": "error",
     "traceback": [
      "\u001b[0;31m---------------------------------------------------------------------------\u001b[0m",
      "\u001b[0;31mTypeError\u001b[0m                                 Traceback (most recent call last)",
      "Cell \u001b[0;32mIn[83], line 8\u001b[0m\n\u001b[1;32m      6\u001b[0m df[\u001b[38;5;124m'\u001b[39m\u001b[38;5;124mvolume\u001b[39m\u001b[38;5;124m'\u001b[39m] \u001b[38;5;241m=\u001b[39m df[\u001b[38;5;124m'\u001b[39m\u001b[38;5;124mvolume\u001b[39m\u001b[38;5;124m'\u001b[39m]\u001b[38;5;241m.\u001b[39mastype(\u001b[38;5;124m'\u001b[39m\u001b[38;5;124mfloat\u001b[39m\u001b[38;5;124m'\u001b[39m)\n\u001b[1;32m      7\u001b[0m df[\u001b[38;5;124m'\u001b[39m\u001b[38;5;124mticker\u001b[39m\u001b[38;5;124m'\u001b[39m] \u001b[38;5;241m=\u001b[39m df[\u001b[38;5;124m'\u001b[39m\u001b[38;5;124mticker\u001b[39m\u001b[38;5;124m'\u001b[39m]\u001b[38;5;241m.\u001b[39mastype(\u001b[38;5;124m'\u001b[39m\u001b[38;5;124mstring\u001b[39m\u001b[38;5;124m'\u001b[39m)\n\u001b[0;32m----> 8\u001b[0m \u001b[43mmpf\u001b[49m\u001b[38;5;241;43m.\u001b[39;49m\u001b[43mplot\u001b[49m\u001b[43m(\u001b[49m\u001b[43mdf\u001b[49m\u001b[43m,\u001b[49m\u001b[43m \u001b[49m\u001b[38;5;28;43mtype\u001b[39;49m\u001b[38;5;241;43m=\u001b[39;49m\u001b[38;5;124;43m'\u001b[39;49m\u001b[38;5;124;43mcandle\u001b[39;49m\u001b[38;5;124;43m'\u001b[39;49m\u001b[43m,\u001b[49m\u001b[43m \u001b[49m\u001b[43mvolume\u001b[49m\u001b[38;5;241;43m=\u001b[39;49m\u001b[38;5;28;43;01mTrue\u001b[39;49;00m\u001b[43m,\u001b[49m\u001b[43m \u001b[49m\u001b[43mstyle\u001b[49m\u001b[38;5;241;43m=\u001b[39;49m\u001b[38;5;124;43m'\u001b[39;49m\u001b[38;5;124;43myahoo\u001b[39;49m\u001b[38;5;124;43m'\u001b[39;49m\u001b[43m)\u001b[49m\n",
      "File \u001b[0;32m~/code/trading_bot/env/lib/python3.12/site-packages/mplfinance/plotting.py:417\u001b[0m, in \u001b[0;36mplot\u001b[0;34m(data, **kwargs)\u001b[0m\n\u001b[1;32m    414\u001b[0m \u001b[38;5;66;03m# translate alias types:\u001b[39;00m\n\u001b[1;32m    415\u001b[0m config[\u001b[38;5;124m'\u001b[39m\u001b[38;5;124mtype\u001b[39m\u001b[38;5;124m'\u001b[39m] \u001b[38;5;241m=\u001b[39m _get_valid_plot_types(config[\u001b[38;5;124m'\u001b[39m\u001b[38;5;124mtype\u001b[39m\u001b[38;5;124m'\u001b[39m])\n\u001b[0;32m--> 417\u001b[0m dates,opens,highs,lows,closes,volumes \u001b[38;5;241m=\u001b[39m \u001b[43m_check_and_prepare_data\u001b[49m\u001b[43m(\u001b[49m\u001b[43mdata\u001b[49m\u001b[43m,\u001b[49m\u001b[43m \u001b[49m\u001b[43mconfig\u001b[49m\u001b[43m)\u001b[49m\n\u001b[1;32m    419\u001b[0m config[\u001b[38;5;124m'\u001b[39m\u001b[38;5;124mxlim\u001b[39m\u001b[38;5;124m'\u001b[39m] \u001b[38;5;241m=\u001b[39m _check_and_convert_xlim_configuration(data, config)\n\u001b[1;32m    421\u001b[0m \u001b[38;5;28;01mif\u001b[39;00m config[\u001b[38;5;124m'\u001b[39m\u001b[38;5;124mtype\u001b[39m\u001b[38;5;124m'\u001b[39m] \u001b[38;5;129;01min\u001b[39;00m VALID_PMOVE_TYPES \u001b[38;5;129;01mand\u001b[39;00m config[\u001b[38;5;124m'\u001b[39m\u001b[38;5;124maddplot\u001b[39m\u001b[38;5;124m'\u001b[39m] \u001b[38;5;129;01mis\u001b[39;00m \u001b[38;5;129;01mnot\u001b[39;00m \u001b[38;5;28;01mNone\u001b[39;00m:\n",
      "File \u001b[0;32m~/code/trading_bot/env/lib/python3.12/site-packages/mplfinance/_arg_validators.py:32\u001b[0m, in \u001b[0;36m_check_and_prepare_data\u001b[0;34m(data, config)\u001b[0m\n\u001b[1;32m     29\u001b[0m     \u001b[38;5;28;01mraise\u001b[39;00m \u001b[38;5;167;01mTypeError\u001b[39;00m(\u001b[38;5;124m'\u001b[39m\u001b[38;5;124mExpect data as DataFrame\u001b[39m\u001b[38;5;124m'\u001b[39m)\n\u001b[1;32m     31\u001b[0m \u001b[38;5;28;01mif\u001b[39;00m \u001b[38;5;129;01mnot\u001b[39;00m \u001b[38;5;28misinstance\u001b[39m(data\u001b[38;5;241m.\u001b[39mindex,pd\u001b[38;5;241m.\u001b[39mcore\u001b[38;5;241m.\u001b[39mindexes\u001b[38;5;241m.\u001b[39mdatetimes\u001b[38;5;241m.\u001b[39mDatetimeIndex):\n\u001b[0;32m---> 32\u001b[0m     \u001b[38;5;28;01mraise\u001b[39;00m \u001b[38;5;167;01mTypeError\u001b[39;00m(\u001b[38;5;124m'\u001b[39m\u001b[38;5;124mExpect data.index as DatetimeIndex\u001b[39m\u001b[38;5;124m'\u001b[39m)\n\u001b[1;32m     34\u001b[0m \u001b[38;5;66;03m# We will not be fully case-insensitive (since Pandas columns as NOT case-insensitive)\u001b[39;00m\n\u001b[1;32m     35\u001b[0m \u001b[38;5;66;03m# but because so many people have requested it, for the default column names we will\u001b[39;00m\n\u001b[1;32m     36\u001b[0m \u001b[38;5;66;03m# try both Capitalized and lower case:\u001b[39;00m\n\u001b[1;32m     37\u001b[0m columns \u001b[38;5;241m=\u001b[39m config[\u001b[38;5;124m'\u001b[39m\u001b[38;5;124mcolumns\u001b[39m\u001b[38;5;124m'\u001b[39m]\n",
      "\u001b[0;31mTypeError\u001b[0m: Expect data.index as DatetimeIndex"
     ]
    }
   ],
   "source": [
    "df['timestamp'] = pd.to_datetime(df['timestamp'], format='%Y-%m-%d %H:%M:%S')\n",
    "df['open'] = df['open'].astype('float')\n",
    "df['high'] = df['high'].astype('float')\n",
    "df['low'] = df['low'].astype('float')\n",
    "df['close'] = df['close'].astype('float')\n",
    "df['volume'] = df['volume'].astype('float')\n",
    "df['ticker'] = df['ticker'].astype('string')\n",
    "mpf.plot(df, type='candle', volume=True, style='yahoo')"
   ]
  }
 ],
 "metadata": {
  "kernelspec": {
   "display_name": "Python 3 (ipykernel)",
   "language": "python",
   "name": "python3"
  },
  "language_info": {
   "codemirror_mode": {
    "name": "ipython",
    "version": 3
   },
   "file_extension": ".py",
   "mimetype": "text/x-python",
   "name": "python",
   "nbconvert_exporter": "python",
   "pygments_lexer": "ipython3",
   "version": "3.12.5"
  }
 },
 "nbformat": 4,
 "nbformat_minor": 5
}
